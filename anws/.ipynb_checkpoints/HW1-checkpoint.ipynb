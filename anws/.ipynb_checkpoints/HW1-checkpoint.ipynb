{
 "cells": [
  {
   "cell_type": "markdown",
   "metadata": {},
   "source": [
    "# Solutions for HW1\n",
    "\n",
    "---\n",
    "\n",
    "## 2.1 Coffee cooling program\n",
    "### a) Determine Cooling Constant r\n",
    "\n",
    "Newton's Law of cooling\n",
    "\\begin{eqnarray}\n",
    "{dT\\over dt} = -r(T-T_s)\n",
    "\\end{eqnarray}\n",
    "Solving this simple differential equation, we get\n",
    "\\begin{eqnarray}\n",
    "T(t) = Ce^{-rt} + T_s\n",
    "\\end{eqnarray}\n",
    "where C and r are Constants. The problem for solving r becomes to fit the above funtion given the data. Columns in data file correspond to time, T for coffee, T-Ts for coffe, T for coffee with cream and T-Ts for coffee with cream.\n",
    "Due to the measurement of error, T has error 0.1 and T-Ts has error 0.1$\\sqrt{2}$ by error propagation.\n",
    "\n",
    "To approximate cooling constant r, there are tow proposal solutions. Solution A: use difference equation to get sequence of r; solution B: fit data with function $T(t) = Ce^{-rt} + T_s$. For solution A, Forward and Back difference equations can be both used. For solution B, we will use linear and nonlinear fit methods.\n",
    "\n",
    "The criterion for determining the best value of r would be calculation $\\chi^2 $:\n",
    "\\begin{eqnarray}\n",
    "\\chi^2 = \\sum_i (y_i-\\bar y_i)^2\n",
    "\\end{eqnarray}\n",
    "where $y_i$ is the temperature measured at time $t_i$ and $\\bar y_i$ is estimated value."
   ]
  },
  {
   "cell_type": "code",
   "execution_count": 1,
   "metadata": {},
   "outputs": [],
   "source": [
    "import numpy as np\n",
    "from lmfit import Model\n",
    "from scipy.stats import chi2\n",
    "import matplotlib.pyplot as plt\n",
    "\n",
    "data = np.loadtxt('temp.dat')\n",
    "\n",
    "t, y1, y2 = data[:,0], data[:,2], data[:,4] \n",
    "# t: time; y1: T-Ts for coffee; y2: T-Ts for coffee with cream\n",
    "\n",
    "Ts = 17"
   ]
  },
  {
   "cell_type": "markdown",
   "metadata": {},
   "source": [
    "#### Solution A: using difference equation to solve r. "
   ]
  },
  {
   "cell_type": "code",
   "execution_count": 11,
   "metadata": {},
   "outputs": [
    {
     "name": "stdout",
     "output_type": "stream",
     "text": [
      "For coffee: \n",
      "Forward: r1_fwd= 0.02261 +/-0.00496\n",
      "Back: r2_back= 0.02374 +/-0.00547\n",
      "-----------------------------------\n",
      "For coffee with cream: \n",
      "Forward: r2_fwd= 0.02087 +/-0.00523\n",
      "Back: r2_back= 0.02184 +/-0.00580\n"
     ]
    }
   ],
   "source": [
    "print('For coffee: ')\n",
    "dy1 = y1[1:] - y1[:-1]\n",
    "# Foward difference method\n",
    "r1_fwd_ = dy1/y1[:-1]/2\n",
    "r1_fwd_e = r1_fwd_.std()\n",
    "r1_fwd = -r1_fwd_.mean()\n",
    "print('Forward: r1_fwd= {:.5f} +/-{:.5f}'.format(r1_fwd, r1_fwd_e))\n",
    "# Back difference method\n",
    "r1_back = dy1/y1[1:]/2\n",
    "r1_back_e = r1_back.std()\n",
    "r1_back = -r1_back.mean()\n",
    "print('Back: r2_back= {:.5f} +/-{:.5f}'.format(r1_back, r1_back_e))\n",
    "\n",
    "print('-----------------------------------')\n",
    "\n",
    "print('For coffee with cream: ')\n",
    "dy2 = y2[1:] - y2[:-1]\n",
    "# Foward difference method\n",
    "r2_fwd = dy2/y2[:-1]/2\n",
    "r2_fwd_e = r2_fwd.std()\n",
    "r2_fwd = -r2_fwd.mean()\n",
    "\n",
    "print('Forward: r2_fwd= {:.5f} +/-{:.5f}'.format(r2_fwd, r2_fwd_e))\n",
    "# Back difference method\n",
    "r2_back = dy2/y2[1:]/2\n",
    "r2_back_e = r2_back.std()\n",
    "r2_back = -r2_back.mean()\n",
    "print('Back: r2_back= {:.5f} +/-{:.5f}'.format(r2_back, r2_back_e))"
   ]
  },
  {
   "cell_type": "markdown",
   "metadata": {},
   "source": [
    "#### Solution B: Nonlinear and Linear fit."
   ]
  },
  {
   "cell_type": "code",
   "execution_count": 3,
   "metadata": {},
   "outputs": [
    {
     "name": "stdout",
     "output_type": "stream",
     "text": [
      "[[Model]]\n",
      "    Model(expfun)\n",
      "[[Fit Statistics]]\n",
      "    # fitting method   = leastsq\n",
      "    # function evals   = 13\n",
      "    # data points      = 24\n",
      "    # variables        = 2\n",
      "    chi-square         = 1790.86775\n",
      "    reduced chi-square = 81.4030797\n",
      "    Akaike info crit   = 107.497641\n",
      "    Bayesian info crit = 109.853749\n",
      "[[Variables]]\n",
      "    c:  62.4835780 +/- 0.63197551 (1.01%) (init = 62)\n",
      "    r:  0.02409281 +/- 5.3334e-04 (2.21%) (init = 0.02)\n",
      "[[Correlations]] (unreported correlations are < 0.100)\n",
      "    C(c, r) =  0.764\n",
      "\n",
      "goodness = 0.0\n"
     ]
    },
    {
     "data": {
      "image/png": "[encoded data removed]",
      "text/plain": [
       "<Figure size 432x288 with 1 Axes>"
      ]
     },
     "metadata": {
      "needs_background": "light"
     },
     "output_type": "display_data"
    }
   ],
   "source": [
    "ye = 0.1*np.sqrt(2)\n",
    "# ye is error of T-Ts\n",
    "\n",
    "def expfun(t,c,r):\n",
    "    return c*np.exp(-r*t)\n",
    "\n",
    "expm = Model(expfun, independent_vars=['t'])\n",
    "expm.set_param_hint('c',value=62,vary=True)\n",
    "expm.set_param_hint('r',value=0.02,vary=True)\n",
    "\n",
    "result = expm.fit(y1, t=t, weights=1/ye)\n",
    "goodness=chi2.sf(result.chisqr,result.nfree)\n",
    "print(result.fit_report(show_correl=True,sort_pars=True))\n",
    "print('goodness = {}'.format(goodness))\n",
    "\n",
    "plt.errorbar(t,np.log(y1),yerr=ye/y1,ls='None',marker='o',ms=2,label='coffee data')\n",
    "plt.title('Coffee')\n",
    "plt.xlabel('t')\n",
    "plt.ylabel('log(T-Ts)')\n",
    "plt.plot(t,np.log(result.best_fit),label=r'$T-Ts = Ce^{-rt}$')\n",
    "plt.legend()\n",
    "plt.show()\n",
    "\n",
    "r1_nonlinear = result.params['r'].value\n",
    "r1_nonlinear_e = result.params['r'].stderr\n",
    "C1_nonlinear = result.params['c'].value\n",
    "C1_nonlinear_e = result.params['c'].stderr"
   ]
  },
  {
   "cell_type": "code",
   "execution_count": 4,
   "metadata": {},
   "outputs": [
    {
     "name": "stdout",
     "output_type": "stream",
     "text": [
      "[[Model]]\n",
      "    Model(linfun)\n",
      "[[Fit Statistics]]\n",
      "    # fitting method   = leastsq\n",
      "    # function evals   = 7\n",
      "    # data points      = 24\n",
      "    # variables        = 2\n",
      "    chi-square         = 1823.56621\n",
      "    reduced chi-square = 82.8893731\n",
      "    Akaike info crit   = 107.931892\n",
      "    Bayesian info crit = 110.287999\n",
      "[[Variables]]\n",
      "    c:  4.13581336 +/- 0.01002761 (0.24%) (init = 1)\n",
      "    r:  0.02405842 +/- 5.2203e-04 (2.17%) (init = 1)\n",
      "[[Correlations]] (unreported correlations are < 0.100)\n",
      "    C(c, r) =  0.755\n",
      "\n",
      "goodness = 0.0\n"
     ]
    },
    {
     "data": {
      "image/png": "[encoded data removed]",
      "text/plain": [
       "<Figure size 432x288 with 1 Axes>"
      ]
     },
     "metadata": {
      "needs_background": "light"
     },
     "output_type": "display_data"
    }
   ],
   "source": [
    "def linfun(t,c,r):\n",
    "    return -r*t + c\n",
    "\n",
    "ye = 0.1*np.sqrt(2)/y1\n",
    "\n",
    "linm = Model(linfun, independent_vars=['t'])\n",
    "linm.set_param_hint('c',value=1,vary=True)\n",
    "linm.set_param_hint('r',value=1,vary=True)\n",
    "\n",
    "result = linm.fit(np.log(y1), t=t, weights=1/ye)\n",
    "print(result.fit_report(show_correl=True,sort_pars=True))\n",
    "goodness=chi2.sf(result.chisqr,result.nfree)\n",
    "print('goodness = {}'.format(goodness))\n",
    "\n",
    "plt.errorbar(t,np.log(y1),yerr=ye/y1,ls='None',marker='o',ms=2,label='coffee data')\n",
    "plt.title('Coffee')\n",
    "plt.xlabel('t')\n",
    "plt.ylabel('log(T-Ts)')\n",
    "plt.plot(t,result.best_fit,label='log(T-Ts) = C-rt')\n",
    "plt.legend()  \n",
    "plt.show()\n",
    "\n",
    "r1_linear = result.params['r'].value\n",
    "r1_linear_e = result.params['r'].stderr\n",
    "C1_linear = result.params['c'].value\n",
    "C1_linear_e = result.params['c'].stderr"
   ]
  },
  {
   "cell_type": "code",
   "execution_count": 5,
   "metadata": {},
   "outputs": [
    {
     "name": "stdout",
     "output_type": "stream",
     "text": [
      "[[Model]]\n",
      "    Model(expfun)\n",
      "[[Fit Statistics]]\n",
      "    # fitting method   = leastsq\n",
      "    # function evals   = 13\n",
      "    # data points      = 24\n",
      "    # variables        = 2\n",
      "    chi-square         = 914.661451\n",
      "    reduced chi-square = 41.5755205\n",
      "    Akaike info crit   = 91.3720040\n",
      "    Bayesian info crit = 93.7281117\n",
      "[[Variables]]\n",
      "    c:  49.0835971 +/- 0.44229505 (0.90%) (init = 62)\n",
      "    r:  0.02152946 +/- 4.5616e-04 (2.12%) (init = 0.02)\n",
      "[[Correlations]] (unreported correlations are < 0.100)\n",
      "    C(c, r) =  0.774\n",
      "\n",
      "goodness = 2.7284140187440035e-179\n"
     ]
    },
    {
     "data": {
      "image/png": "[encoded data removed]",
      "text/plain": [
       "<Figure size 432x288 with 1 Axes>"
      ]
     },
     "metadata": {
      "needs_background": "light"
     },
     "output_type": "display_data"
    }
   ],
   "source": [
    "ye = 0.1*np.sqrt(2)\n",
    "# ye is error of T-Ts\n",
    "\n",
    "def expfun(t,c,r):\n",
    "    return c*np.exp(-r*t)\n",
    "\n",
    "expm = Model(expfun, independent_vars=['t'])\n",
    "expm.set_param_hint('c',value=62,vary=True)\n",
    "expm.set_param_hint('r',value=0.02,vary=True)\n",
    "\n",
    "result = expm.fit(y2, t=t, weights=1/ye)\n",
    "goodness=chi2.sf(result.chisqr,result.nfree)\n",
    "print(result.fit_report(show_correl=True,sort_pars=True))\n",
    "print('goodness = {}'.format(goodness))\n",
    "\n",
    "plt.errorbar(t,np.log(y2),yerr=ye/y2,ls='None',marker='o',ms=2,label='coffee data')\n",
    "plt.title('Coffee with cream')\n",
    "plt.xlabel('t')\n",
    "plt.ylabel('log(T-Ts)')\n",
    "plt.plot(t,np.log(result.best_fit),label=r'$T-Ts = Ce^{-rt}$')\n",
    "plt.legend()\n",
    "plt.show()\n",
    "\n",
    "r2_nonlinear = result.params['r'].value\n",
    "r2_nonlinear_e = result.params['r'].stderr\n",
    "C2_nonlinear = result.params['c'].value\n",
    "C2_nonlinear_e = result.params['c'].stderr"
   ]
  },
  {
   "cell_type": "code",
   "execution_count": 6,
   "metadata": {
    "scrolled": false
   },
   "outputs": [
    {
     "name": "stdout",
     "output_type": "stream",
     "text": [
      "[[Model]]\n",
      "    Model(linfun)\n",
      "[[Fit Statistics]]\n",
      "    # fitting method   = leastsq\n",
      "    # function evals   = 7\n",
      "    # data points      = 24\n",
      "    # variables        = 2\n",
      "    chi-square         = 936.967458\n",
      "    reduced chi-square = 42.5894299\n",
      "    Akaike info crit   = 91.9502733\n",
      "    Bayesian info crit = 94.3063810\n",
      "[[Variables]]\n",
      "    c:  3.89462046 +/- 0.00898531 (0.23%) (init = 1)\n",
      "    r:  0.02153039 +/- 4.5033e-04 (2.09%) (init = 1)\n",
      "[[Correlations]] (unreported correlations are < 0.100)\n",
      "    C(c, r) =  0.766\n",
      "\n",
      "goodness = 4.973175401029741e-184\n"
     ]
    },
    {
     "data": {
      "image/png": "[encoded data removed]",
      "text/plain": [
       "<Figure size 432x288 with 1 Axes>"
      ]
     },
     "metadata": {
      "needs_background": "light"
     },
     "output_type": "display_data"
    }
   ],
   "source": [
    "def linfun(t,c,r):\n",
    "    return -r*t + c\n",
    "\n",
    "ye = 0.1*np.sqrt(2)/y2\n",
    "\n",
    "linm = Model(linfun, independent_vars=['t'])\n",
    "linm.set_param_hint('c',value=1,vary=True)\n",
    "linm.set_param_hint('r',value=1,vary=True)\n",
    "\n",
    "result = linm.fit(np.log(y2), t=t, weights=1/ye)\n",
    "print(result.fit_report(show_correl=True,sort_pars=True))\n",
    "goodness=chi2.sf(result.chisqr,result.nfree)\n",
    "print('goodness = {}'.format(goodness))\n",
    "\n",
    "plt.errorbar(t,np.log(y2),yerr=ye/y2,ls='None',marker='o',ms=2,label='coffee data')\n",
    "plt.title('Coffee with cream')\n",
    "plt.xlabel('t')\n",
    "plt.ylabel('log(T-Ts)')\n",
    "plt.plot(t,result.best_fit,label='log(T-Ts) = C-rt')\n",
    "plt.legend()  \n",
    "plt.show()\n",
    "\n",
    "r2_linear = result.params['r'].value\n",
    "r2_linear_e = result.params['r'].stderr\n",
    "C2_linear = result.params['c'].value\n",
    "C2_linear_e = result.params['c'].stderr"
   ]
  },
  {
   "cell_type": "markdown",
   "metadata": {},
   "source": [
    "#### Summary for solution A and B"
   ]
  },
  {
   "cell_type": "code",
   "execution_count": 7,
   "metadata": {},
   "outputs": [
    {
     "name": "stdout",
     "output_type": "stream",
     "text": [
      "Method           | Forward             | Back                | Nonlinear          | Linear \n",
      "---------------------------------------------------------------------------------------------------------\n",
      "Coffee           | 0.02261 +/- 0.00496 | 0.02374 +/- 0.00547 | 0.02409 +/- 0.00053| 0.02406 +/- 0.00052\n",
      "Coffee with cream| 0.02087 +/- 0.00523 | 0.02184 +/- 0.00580 | 0.02153 +/- 0.00046| 0.02153 +/- 0.00045\n"
     ]
    }
   ],
   "source": [
    "print('Method           | Forward             | Back                | Nonlinear          | Linear ')\n",
    "print('---------------------------------------------------------------------------------------------------------')\n",
    "print('Coffee           | {:.5f} +/- {:.5f} | {:.5f} +/- {:.5f} | {:.5f} +/- {:.5f}| {:.5f} +/- {:.5f}'\n",
    ".format(r1_fwd,r1_fwd_e,r1_back,r1_back_e,r1_nonlinear,r1_nonlinear_e,r1_linear,r1_linear_e))\n",
    "print('Coffee with cream| {:.5f} +/- {:.5f} | {:.5f} +/- {:.5f} | {:.5f} +/- {:.5f}| {:.5f} +/- {:.5f}'\n",
    ".format(r2_fwd,r2_fwd_e,r2_back,r2_back_e,r2_nonlinear,r2_nonlinear_e,r2_linear,r2_linear_e))"
   ]
  },
  {
   "cell_type": "markdown",
   "metadata": {},
   "source": [
    "### c) Significance of $\\Delta t$"
   ]
  },
  {
   "cell_type": "code",
   "execution_count": 8,
   "metadata": {},
   "outputs": [],
   "source": [
    "def Euler(x,y,f,dx):\n",
    "    y += f(x,y)*dx\n",
    "    x += dx\n",
    "    return x,y\n",
    "\n",
    "def cooling(x0,y0,dt,r,ytrue,tmax,tshow=2):\n",
    "    x, y = x0,y0\n",
    "    nshow = math.ceil(tshow/dt)\n",
    "    T = lambda x: ytrue[0]*np.exp(-r*x)\n",
    "    f = lambda x,y: -r*y\n",
    "    output='Step {:3d}: x = {:7.4f}, y_euler = {:.4f}, y_fun = {:.4f}, y_obs = {:.4f}, y_fun - y_euler = {:7.4f}'\n",
    "    i = 0\n",
    "    while (x<t[-1]):\n",
    "        Tx=T(x)\n",
    "        if i%nshow==0:print(output.format(i,x,y,Tx,ytrue[i//nshow],y-Tx))\n",
    "        i += 1\n",
    "        x, y = Euler(x,y,f,dt)"
   ]
  },
  {
   "cell_type": "code",
   "execution_count": 9,
   "metadata": {},
   "outputs": [
    {
     "ename": "NameError",
     "evalue": "name 'math' is not defined",
     "output_type": "error",
     "traceback": [
      "\u001b[0;31m---------------------------------------------------------------------------\u001b[0m",
      "\u001b[0;31mNameError\u001b[0m                                 Traceback (most recent call last)",
      "\u001b[0;32m<ipython-input-9-ff88a971fa0a>\u001b[0m in \u001b[0;36m<module>\u001b[0;34m()\u001b[0m\n\u001b[0;32m----> 1\u001b[0;31m \u001b[0mcooling\u001b[0m\u001b[0;34m(\u001b[0m\u001b[0;36m0\u001b[0m\u001b[0;34m,\u001b[0m\u001b[0my1\u001b[0m\u001b[0;34m[\u001b[0m\u001b[0;36m0\u001b[0m\u001b[0;34m]\u001b[0m\u001b[0;34m,\u001b[0m\u001b[0;36m0.1\u001b[0m\u001b[0;34m,\u001b[0m\u001b[0mr1_linear\u001b[0m\u001b[0;34m,\u001b[0m\u001b[0my1\u001b[0m\u001b[0;34m,\u001b[0m\u001b[0mt\u001b[0m\u001b[0;34m[\u001b[0m\u001b[0;34m-\u001b[0m\u001b[0;36m1\u001b[0m\u001b[0;34m]\u001b[0m\u001b[0;34m)\u001b[0m\u001b[0;34m\u001b[0m\u001b[0m\n\u001b[0m",
      "\u001b[0;32m<ipython-input-8-084847e8c40f>\u001b[0m in \u001b[0;36mcooling\u001b[0;34m(x0, y0, dt, r, ytrue, tmax, tshow)\u001b[0m\n\u001b[1;32m      6\u001b[0m \u001b[0;32mdef\u001b[0m \u001b[0mcooling\u001b[0m\u001b[0;34m(\u001b[0m\u001b[0mx0\u001b[0m\u001b[0;34m,\u001b[0m\u001b[0my0\u001b[0m\u001b[0;34m,\u001b[0m\u001b[0mdt\u001b[0m\u001b[0;34m,\u001b[0m\u001b[0mr\u001b[0m\u001b[0;34m,\u001b[0m\u001b[0mytrue\u001b[0m\u001b[0;34m,\u001b[0m\u001b[0mtmax\u001b[0m\u001b[0;34m,\u001b[0m\u001b[0mtshow\u001b[0m\u001b[0;34m=\u001b[0m\u001b[0;36m2\u001b[0m\u001b[0;34m)\u001b[0m\u001b[0;34m:\u001b[0m\u001b[0;34m\u001b[0m\u001b[0m\n\u001b[1;32m      7\u001b[0m     \u001b[0mx\u001b[0m\u001b[0;34m,\u001b[0m \u001b[0my\u001b[0m \u001b[0;34m=\u001b[0m \u001b[0mx0\u001b[0m\u001b[0;34m,\u001b[0m\u001b[0my0\u001b[0m\u001b[0;34m\u001b[0m\u001b[0m\n\u001b[0;32m----> 8\u001b[0;31m     \u001b[0mnshow\u001b[0m \u001b[0;34m=\u001b[0m \u001b[0mmath\u001b[0m\u001b[0;34m.\u001b[0m\u001b[0mceil\u001b[0m\u001b[0;34m(\u001b[0m\u001b[0mtshow\u001b[0m\u001b[0;34m/\u001b[0m\u001b[0mdt\u001b[0m\u001b[0;34m)\u001b[0m\u001b[0;34m\u001b[0m\u001b[0m\n\u001b[0m\u001b[1;32m      9\u001b[0m     \u001b[0mT\u001b[0m \u001b[0;34m=\u001b[0m \u001b[0;32mlambda\u001b[0m \u001b[0mx\u001b[0m\u001b[0;34m:\u001b[0m \u001b[0mytrue\u001b[0m\u001b[0;34m[\u001b[0m\u001b[0;36m0\u001b[0m\u001b[0;34m]\u001b[0m\u001b[0;34m*\u001b[0m\u001b[0mnp\u001b[0m\u001b[0;34m.\u001b[0m\u001b[0mexp\u001b[0m\u001b[0;34m(\u001b[0m\u001b[0;34m-\u001b[0m\u001b[0mr\u001b[0m\u001b[0;34m*\u001b[0m\u001b[0mx\u001b[0m\u001b[0;34m)\u001b[0m\u001b[0;34m\u001b[0m\u001b[0m\n\u001b[1;32m     10\u001b[0m     \u001b[0mf\u001b[0m \u001b[0;34m=\u001b[0m \u001b[0;32mlambda\u001b[0m \u001b[0mx\u001b[0m\u001b[0;34m,\u001b[0m\u001b[0my\u001b[0m\u001b[0;34m:\u001b[0m \u001b[0;34m-\u001b[0m\u001b[0mr\u001b[0m\u001b[0;34m*\u001b[0m\u001b[0my\u001b[0m\u001b[0;34m\u001b[0m\u001b[0m\n",
      "\u001b[0;31mNameError\u001b[0m: name 'math' is not defined"
     ]
    }
   ],
   "source": [
    "cooling(0,y1[0],0.1,r1_linear,y1,t[-1])"
   ]
  },
  {
   "cell_type": "markdown",
   "metadata": {},
   "source": [
    "### d) cooling time"
   ]
  },
  {
   "cell_type": "markdown",
   "metadata": {},
   "source": [
    "Let $T^\\prime = T-Ts$, by using equation $T - T_s = Ce^{-rt} $, we get\n",
    "\n",
    "\\begin{eqnarray}\n",
    "ratio = {T^\\prime(0) \\over T^\\prime(t)} = e^{rt} \\\\\n",
    "t = log(ratio)/r\n",
    "\\end{eqnarray}\n",
    "\n",
    "Thus, for each difference, it will take\n",
    "\\begin{eqnarray}\n",
    "ratio = 2, t = log(2)/r = 28.8 min \\\\\n",
    "ratio = 4, t = log(4)/r = 57.6 min \\\\\n",
    "ratio = 8, t = log(8)/r = 86.4 min \\\\\n",
    "\\end{eqnarray}"
   ]
  },
  {
   "cell_type": "code",
   "execution_count": null,
   "metadata": {},
   "outputs": [],
   "source": [
    "ln2=np.log(2)\n",
    "dln2br=ln2/r1_linear\n",
    "\n",
    "print(dln2br,2*dln2br,3*dln2br)"
   ]
  },
  {
   "cell_type": "markdown",
   "metadata": {},
   "source": [
    "### e) Modifications"
   ]
  },
  {
   "cell_type": "markdown",
   "metadata": {},
   "source": [
    "### f) visualize the change of coffee temperature"
   ]
  },
  {
   "cell_type": "code",
   "execution_count": null,
   "metadata": {},
   "outputs": [],
   "source": []
  }
 ],
 "metadata": {
  "kernelspec": {
   "display_name": "Python 3",
   "language": "python",
   "name": "python3"
  },
  "language_info": {
   "codemirror_mode": {
    "name": "ipython",
    "version": 3
   },
   "file_extension": ".py",
   "mimetype": "text/x-python",
   "name": "python",
   "nbconvert_exporter": "python",
   "pygments_lexer": "ipython3",
   "version": "3.6.6"
  }
 },
 "nbformat": 4,
 "nbformat_minor": 2
}
