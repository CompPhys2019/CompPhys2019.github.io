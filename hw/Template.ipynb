{
 "cells": [
  {
   "cell_type": "markdown",
   "metadata": {},
   "source": [
    "# Solutions for HW1\n",
    "\n",
    "---\n",
    "\n",
    "## 2.1 Coffee cooling program\n",
    "### a) Determine Cooling Constant r\n",
    "\n",
    "Newton's Law of cooling\n",
    "\\begin{eqnarray}\n",
    "{dT\\over dt} = -r(T-T_s)\n",
    "\\end{eqnarray}\n",
    "\n",
    "blablabla... \n",
    "\n",
    "To approximate cooling constant r, there are tow proposal solutions. \n",
    "\n",
    "blablabla...\n",
    "The criterion for determining the best value of r would be blablabla..."
   ]
  },
  {
   "cell_type": "code",
   "execution_count": 1,
   "metadata": {},
   "outputs": [],
   "source": [
    "import numpy as np\n",
    "from lmfit import Model\n",
    "from scipy.stats import chi2\n",
    "import matplotlib.pyplot as plt\n",
    "\n",
    "data = np.loadtxt('temp.dat')\n",
    "\n",
    "t, y1, y2 = data[:,0], data[:,2], data[:,4] \n",
    "# t: time; y1: T-Ts for coffee; y2: T-Ts for coffee with cream\n",
    "\n",
    "Ts = 17\n",
    "\n",
    "rchi = '{:7.5f} +/- {:7.5f} {:10.2f}     {:7.5f} +/- {:7.5f} {:10.2f}'"
   ]
  },
  {
   "cell_type": "markdown",
   "metadata": {},
   "source": [
    "#### Solution A: ... "
   ]
  },
  {
   "cell_type": "code",
   "execution_count": 4,
   "metadata": {},
   "outputs": [
    {
     "name": "stdout",
     "output_type": "stream",
     "text": [
      "                      coffee                         coffee with cream\n",
      "-----------------------------------------------------------------------------\n",
      "Solution A 1.00000 +/- 1.00000       1.00     1.00000 +/- 1.00000       1.00\n"
     ]
    }
   ],
   "source": [
    "# code here\n",
    "\n",
    "# Result\n",
    "print('                      coffee                         coffee with cream')\n",
    "print('-----------------------------------------------------------------------------')\n",
    "print('Solution A',rchi.format(*(6*[1])))"
   ]
  },
  {
   "cell_type": "markdown",
   "metadata": {},
   "source": [
    "#### Solution B: ..."
   ]
  },
  {
   "cell_type": "code",
   "execution_count": 5,
   "metadata": {},
   "outputs": [],
   "source": [
    "# code here\n",
    "\n",
    "# Result"
   ]
  },
  {
   "cell_type": "markdown",
   "metadata": {},
   "source": [
    "#### Summary for solution A and B\n",
    "\n",
    "Analysis the result with criterion you were given."
   ]
  },
  {
   "cell_type": "code",
   "execution_count": 7,
   "metadata": {},
   "outputs": [
    {
     "name": "stdout",
     "output_type": "stream",
     "text": [
      "                      coffee                         coffee with cream\n",
      "-----------------------------------------------------------------------------\n",
      "Solution A 1.00000 +/- 1.00000       1.00     1.00000 +/- 1.00000       1.00\n",
      "Solution B 1.00000 +/- 1.00000       1.00     1.00000 +/- 1.00000       1.00\n"
     ]
    }
   ],
   "source": [
    "# code here\n",
    "\n",
    "# Result\n",
    "print('                      coffee                         coffee with cream')\n",
    "print('-----------------------------------------------------------------------------')\n",
    "print('Solution A',rchi.format(*(6*[1])))\n",
    "print('Solution B',rchi.format(*(6*[1])))"
   ]
  },
  {
   "cell_type": "markdown",
   "metadata": {},
   "source": [
    "### c) Significance of $\\Delta t$\n",
    "Set $\\Delta t = 0.01, 0.1, 0.2$, we estimate errors of $\\Delta T$"
   ]
  },
  {
   "cell_type": "code",
   "execution_count": 9,
   "metadata": {},
   "outputs": [],
   "source": [
    "# code here\n",
    "\n",
    "# Result"
   ]
  },
  {
   "cell_type": "markdown",
   "metadata": {},
   "source": [
    "\\begin{eqnarray}\n",
    "\\Delta t = 0.01, \\Delta T \\approx ??? \\\\\n",
    "\\Delta t = 0.1 , \\Delta T \\approx ??? \\\\\n",
    "\\Delta t = 0.2 , \\Delta T \\approx ??? \\\\\n",
    "\\Delta t \\propto ???\n",
    "\\end{eqnarray}"
   ]
  },
  {
   "cell_type": "markdown",
   "metadata": {},
   "source": [
    "### d) cooling time"
   ]
  },
  {
   "cell_type": "markdown",
   "metadata": {},
   "source": [
    "Put derivation here."
   ]
  },
  {
   "cell_type": "markdown",
   "metadata": {},
   "source": [
    "### e) Modifications\n",
    "\n",
    "blabla..."
   ]
  },
  {
   "cell_type": "markdown",
   "metadata": {},
   "source": [
    "### f) visualize the change of coffee temperature"
   ]
  },
  {
   "cell_type": "code",
   "execution_count": 15,
   "metadata": {},
   "outputs": [
    {
     "data": {
      "image/png": "[encoded data removed]",
      "text/plain": [
       "<Figure size 432x288 with 2 Axes>"
      ]
     },
     "metadata": {
      "needs_background": "light"
     },
     "output_type": "display_data"
    }
   ],
   "source": [
    "fun = Tt1(C1_poly,r1_poly,a)\n",
    "t1=np.linspace(t[0], t[-1], num=100)\n",
    "y3 = fun(t)\n",
    "plt.scatter(t,y3+Ts,c=y3,cmap='gist_heat',marker='*',label=\"$T(t) = e^{c-rt+at^2} + T_s$\")\n",
    "plt.scatter(t,y1+Ts,c=y1,cmap='gist_heat',marker='o',label='data')\n",
    "plt.title('Coffee')\n",
    "plt.xlabel('t')\n",
    "plt.ylabel('T')\n",
    "plt.legend()\n",
    "plt.colorbar()\n",
    "plt.show()"
   ]
  },
  {
   "cell_type": "markdown",
   "metadata": {},
   "source": [
    "## 2.2 Is it faster to add cream first or later?\n",
    "\n",
    "Suppose ..."
   ]
  },
  {
   "cell_type": "markdown",
   "metadata": {},
   "source": [
    "We see that it is faster to ... Then we discuss about dependence on the valule of $\\Delta T$."
   ]
  },
  {
   "cell_type": "code",
   "execution_count": 6,
   "metadata": {},
   "outputs": [],
   "source": [
    "# result"
   ]
  },
  {
   "cell_type": "markdown",
   "metadata": {},
   "source": [
    "We see that ??? always spends minist time from lab experiment. \n",
    "blabla...\n",
    "Hence, we conclude that ??? spends minist time."
   ]
  }
 ],
 "metadata": {
  "kernelspec": {
   "display_name": "Python 3",
   "language": "python",
   "name": "python3"
  },
  "language_info": {
   "codemirror_mode": {
    "name": "ipython",
    "version": 3
   },
   "file_extension": ".py",
   "mimetype": "text/x-python",
   "name": "python",
   "nbconvert_exporter": "python",
   "pygments_lexer": "ipython3",
   "version": "3.6.6"
  },
  "widgets": {
   "application/vnd.jupyter.widget-state+json": {
    "state": {},
    "version_major": 2,
    "version_minor": 0
   }
  }
 },
 "nbformat": 4,
 "nbformat_minor": 2
}
