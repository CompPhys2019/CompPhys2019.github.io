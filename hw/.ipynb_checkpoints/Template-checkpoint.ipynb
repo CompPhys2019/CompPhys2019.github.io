{
 "cells": [
  {
   "cell_type": "markdown",
   "metadata": {},
   "source": [
    "# Solutions for HW1\n",
    "\n",
    "---\n",
    "\n",
    "## 2.1 Coffee cooling program\n",
    "### a) Determine Cooling Constant r\n",
    "\n",
    "Newton's Law of cooling\n",
    "\\begin{eqnarray}\n",
    "{dT\\over dt} = -r(T-T_s)\n",
    "\\end{eqnarray}\n",
    "\n",
    "blablabla... \n",
    "\n",
    "To approximate cooling constant r, there are tow proposal solutions. \n",
    "\n",
    "blablabla...\n",
    "The criterion for determining the best value of r would be blablabla..."
   ]
  },
  {
   "cell_type": "code",
   "execution_count": 1,
   "metadata": {},
   "outputs": [],
   "source": [
    "import numpy as np\n",
    "from lmfit import Model\n",
    "from scipy.stats import chi2\n",
    "import matplotlib.pyplot as plt\n",
    "\n",
    "data = np.loadtxt('temp.dat')\n",
    "\n",
    "t, y1, y2 = data[:,0], data[:,2], data[:,4] \n",
    "# t: time; y1: T-Ts for coffee; y2: T-Ts for coffee with cream\n",
    "\n",
    "Ts = 17\n",
    "\n",
    "chisquare = lambda f,x,y:((f(x)-y)**2).sum()\n",
    "\n",
    "def Tt(C,r):\n",
    "    return lambda x:C*np.exp(-r*x)\n",
    "\n",
    "rchi = '{:7.5f} +/- {:7.5f} {:10.2f}     {:7.5f} +/- {:7.5f} {:10.2f}'"
   ]
  },
  {
   "cell_type": "markdown",
   "metadata": {},
   "source": [
    "#### Solution A: using difference equation to solve r. "
   ]
  },
  {
   "cell_type": "code",
   "execution_count": 2,
   "metadata": {},
   "outputs": [
    {
     "name": "stdout",
     "output_type": "stream",
     "text": [
      "                      coffee                         coffee with cream\n",
      "-----------------------------------------------------------------------------\n",
      "                 r               χ^2                  r               χ^2\n",
      "Foward    0.02261 +/- 0.00496     226.96     0.02087 +/- 0.00523     131.42\n",
      "Back      0.02374 +/- 0.00547     134.27     0.02184 +/- 0.00580      83.19\n"
     ]
    }
   ],
   "source": [
    "def forward_diff(y,dt=2):\n",
    "    dy = y[1:] - y[:-1]\n",
    "    rs = -dy/y[:-1]/dt\n",
    "    r = rs.mean()\n",
    "    r_e = rs.std()\n",
    "    return r, r_e\n",
    "\n",
    "def back_diff(y,dt=2):\n",
    "    dy = y[1:] - y[:-1]\n",
    "    rs = -dy/y[1:]/dt\n",
    "    r = rs.mean()\n",
    "    r_e = rs.std()\n",
    "    return r, r_e\n",
    "    \n",
    "r1_fwd, r1_fwd_e = forward_diff(y1)\n",
    "chi21_fwd = chisquare(Tt(y1[0],r1_fwd),t,y1)\n",
    "\n",
    "r2_fwd, r2_fwd_e = forward_diff(y2)\n",
    "chi22_fwd = chisquare(Tt(y2[0],r2_fwd),t,y2)\n",
    "\n",
    "r1_back, r1_back_e = back_diff(y1)\n",
    "chi21_back = chisquare(Tt(y1[0],r1_back),t,y1)\n",
    "\n",
    "r2_back, r2_back_e = back_diff(y2)\n",
    "chi22_back = chisquare(Tt(y2[0],r2_back),t,y2)\n",
    "\n",
    "# print('Method|12345678123456781234567812345678|12345678123456781234567812345678')\n",
    "print('                      coffee                         coffee with cream')\n",
    "print('-----------------------------------------------------------------------------')\n",
    "print(\"                 r               \\u03C7^2                  r               \\u03C7^2\")\n",
    "print('Foward   ',rchi.format(r1_fwd,r1_fwd_e,chi21_fwd,r2_fwd,r2_fwd_e,chi22_fwd))\n",
    "print('Back     ',rchi.format(r1_back,r1_back_e,chi21_back,r2_back,r2_back_e,chi22_back))"
   ]
  },
  {
   "cell_type": "markdown",
   "metadata": {},
   "source": [
    "#### Solution B: Nonlinear and Linear fit."
   ]
  },
  {
   "cell_type": "code",
   "execution_count": 3,
   "metadata": {},
   "outputs": [],
   "source": [
    "def fit(fun,x,y,weights=None):\n",
    "    m=Model(fun, independent_vars=['x'])            \n",
    "    result = m.fit(y, x=x, weights=weights)\n",
    "    goodness=chi2.sf(result.chisqr,result.nfree)\n",
    "    print(result.fit_report(show_correl=True,sort_pars=True))\n",
    "    print('goodness: {}'.format(goodness))\n",
    "    \n",
    "    return result\n",
    "\n",
    "def expfun(x,c=62,r=0.1):\n",
    "    return c*np.exp(-r*x)\n",
    "\n",
    "def linfun(x,c=3,r=0.1):\n",
    "    return -r*x + c\n",
    "\n",
    "logy1 = np.log(y1)\n",
    "logy2 = np.log(y2)"
   ]
  },
  {
   "cell_type": "code",
   "execution_count": 4,
   "metadata": {},
   "outputs": [
    {
     "name": "stdout",
     "output_type": "stream",
     "text": [
      "[[Model]]\n",
      "    Model(expfun)\n",
      "[[Fit Statistics]]\n",
      "    # fitting method   = leastsq\n",
      "    # function evals   = 23\n",
      "    # data points      = 24\n",
      "    # variables        = 2\n",
      "    chi-square         = 1790.86775\n",
      "    reduced chi-square = 81.4030797\n",
      "    Akaike info crit   = 107.497641\n",
      "    Bayesian info crit = 109.853749\n",
      "[[Variables]]\n",
      "    c:  62.4835947 +/- 0.63197857 (1.01%) (init = 62)\n",
      "    r:  0.02409282 +/- 5.3335e-04 (2.21%) (init = 0.1)\n",
      "[[Correlations]] (unreported correlations are < 0.100)\n",
      "    C(c, r) =  0.764\n",
      "\n",
      "goodness: 0.0\n"
     ]
    },
    {
     "data": {
      "image/png": "[encoded data removed]",
      "text/plain": [
       "<Figure size 432x288 with 1 Axes>"
      ]
     },
     "metadata": {
      "needs_background": "light"
     },
     "output_type": "display_data"
    }
   ],
   "source": [
    "ye = 0.1*np.sqrt(2)\n",
    "# ye is error of T-Ts\n",
    "\n",
    "result = fit(expfun,t,y1,1/ye)\n",
    "\n",
    "plt.errorbar(t,logy1,yerr=ye/y1,ls='None',marker='o',ms=2,label='coffee data')\n",
    "plt.plot(t,np.log(result.best_fit),label=r'$T-Ts = Ce^{-rt}$')\n",
    "plt.title('Coffee')\n",
    "plt.xlabel('t')\n",
    "plt.ylabel('log(T-Ts)')\n",
    "plt.legend()\n",
    "plt.show()\n",
    "\n",
    "r1_nonlinear = result.params['r'].value\n",
    "r1_nonlinear_e = result.params['r'].stderr\n",
    "C1_nonlinear = result.params['c'].value\n",
    "C1_nonlinear_e = result.params['c'].stderr\n",
    "chi21_nonlinear = chisquare(Tt(C1_nonlinear,r1_nonlinear),t,y1)"
   ]
  },
  {
   "cell_type": "code",
   "execution_count": 5,
   "metadata": {},
   "outputs": [
    {
     "name": "stdout",
     "output_type": "stream",
     "text": [
      "[[Model]]\n",
      "    Model(linfun)\n",
      "[[Fit Statistics]]\n",
      "    # fitting method   = leastsq\n",
      "    # function evals   = 7\n",
      "    # data points      = 24\n",
      "    # variables        = 2\n",
      "    chi-square         = 1823.56621\n",
      "    reduced chi-square = 82.8893731\n",
      "    Akaike info crit   = 107.931892\n",
      "    Bayesian info crit = 110.287999\n",
      "[[Variables]]\n",
      "    c:  4.13581336 +/- 0.01002761 (0.24%) (init = 3)\n",
      "    r:  0.02405842 +/- 5.2203e-04 (2.17%) (init = 0.1)\n",
      "[[Correlations]] (unreported correlations are < 0.100)\n",
      "    C(c, r) =  0.755\n",
      "\n",
      "goodness: 0.0\n"
     ]
    },
    {
     "data": {
      "image/png": "[encoded data removed]",
      "text/plain": [
       "<Figure size 432x288 with 1 Axes>"
      ]
     },
     "metadata": {
      "needs_background": "light"
     },
     "output_type": "display_data"
    }
   ],
   "source": [
    "ye = 0.1*np.sqrt(2)/y1\n",
    "\n",
    "result = fit(linfun,t,logy1,1/ye)\n",
    "\n",
    "plt.errorbar(t,logy1,yerr=ye,ls='None',marker='o',ms=2,label='coffee data')\n",
    "plt.plot(t,result.best_fit,label='log(T-Ts) = C-rt')\n",
    "plt.title('Coffee')\n",
    "plt.xlabel('t')\n",
    "plt.ylabel('log(T-Ts)')\n",
    "plt.legend()  \n",
    "plt.show()\n",
    "\n",
    "r1_linear = result.params['r'].value\n",
    "r1_linear_e = result.params['r'].stderr\n",
    "C1_linear = result.params['c'].value\n",
    "C1_linear_e = result.params['c'].stderr\n",
    "chi21_linear = chisquare(Tt(np.exp(C1_linear),r1_linear),t,y1)"
   ]
  },
  {
   "cell_type": "code",
   "execution_count": 6,
   "metadata": {},
   "outputs": [
    {
     "name": "stdout",
     "output_type": "stream",
     "text": [
      "[[Model]]\n",
      "    Model(expfun)\n",
      "[[Fit Statistics]]\n",
      "    # fitting method   = leastsq\n",
      "    # function evals   = 23\n",
      "    # data points      = 24\n",
      "    # variables        = 2\n",
      "    chi-square         = 914.661451\n",
      "    reduced chi-square = 41.5755205\n",
      "    Akaike info crit   = 91.3720040\n",
      "    Bayesian info crit = 93.7281117\n",
      "[[Variables]]\n",
      "    c:  49.0836032 +/- 0.44229624 (0.90%) (init = 62)\n",
      "    r:  0.02152947 +/- 4.5616e-04 (2.12%) (init = 0.1)\n",
      "[[Correlations]] (unreported correlations are < 0.100)\n",
      "    C(c, r) =  0.774\n",
      "\n",
      "goodness: 2.728414033201096e-179\n"
     ]
    },
    {
     "data": {
      "image/png": "[encoded data removed]",
      "text/plain": [
       "<Figure size 432x288 with 1 Axes>"
      ]
     },
     "metadata": {
      "needs_background": "light"
     },
     "output_type": "display_data"
    }
   ],
   "source": [
    "ye = 0.1*np.sqrt(2)\n",
    "result = fit(expfun,t,y2,1/ye)\n",
    "\n",
    "plt.errorbar(t,logy2,yerr=ye/y2,ls='None',marker='o',ms=2,label='coffee data')\n",
    "plt.plot(t,np.log(result.best_fit),label=r'$T-Ts = Ce^{-rt}$')\n",
    "plt.title('Coffee with cream')\n",
    "plt.xlabel('t')\n",
    "plt.ylabel('log(T-Ts)')\n",
    "plt.legend()\n",
    "plt.show()\n",
    "\n",
    "r2_nonlinear = result.params['r'].value\n",
    "r2_nonlinear_e = result.params['r'].stderr\n",
    "C2_nonlinear = result.params['c'].value\n",
    "C2_nonlinear_e = result.params['c'].stderr\n",
    "chi22_nonlinear = chisquare(Tt(C2_nonlinear,r2_nonlinear),t,y2)"
   ]
  },
  {
   "cell_type": "code",
   "execution_count": 7,
   "metadata": {
    "scrolled": false
   },
   "outputs": [
    {
     "name": "stdout",
     "output_type": "stream",
     "text": [
      "[[Model]]\n",
      "    Model(linfun)\n",
      "[[Fit Statistics]]\n",
      "    # fitting method   = leastsq\n",
      "    # function evals   = 7\n",
      "    # data points      = 24\n",
      "    # variables        = 2\n",
      "    chi-square         = 1.1304e-05\n",
      "    reduced chi-square = 5.1382e-07\n",
      "    Akaike info crit   = -345.641602\n",
      "    Bayesian info crit = -343.285494\n",
      "[[Variables]]\n",
      "    c:  3.85182186 +/- 0.01064664 (0.28%) (init = 3)\n",
      "    r:  0.01973274 +/- 3.2621e-04 (1.65%) (init = 0.1)\n",
      "[[Correlations]] (unreported correlations are < 0.100)\n",
      "    C(c, r) =  0.924\n",
      "\n",
      "goodness: 1.0\n"
     ]
    },
    {
     "data": {
      "image/png": "[encoded data removed]",
      "text/plain": [
       "<Figure size 432x288 with 1 Axes>"
      ]
     },
     "metadata": {
      "needs_background": "light"
     },
     "output_type": "display_data"
    }
   ],
   "source": [
    "ye = 0.1*np.sqrt(2)/y2\n",
    "\n",
    "result = fit(linfun,t,logy2,1/y2)\n",
    "\n",
    "plt.errorbar(t,logy2,yerr=ye,ls='None',marker='o',ms=2,label='coffee data')\n",
    "plt.plot(t,result.best_fit,label='log(T-Ts) = C-rt')\n",
    "plt.title('Coffee')\n",
    "plt.xlabel('t')\n",
    "plt.ylabel('log(T-Ts)')\n",
    "plt.legend()  \n",
    "plt.show()\n",
    "\n",
    "r2_linear = result.params['r'].value\n",
    "r2_linear_e = result.params['r'].stderr\n",
    "C2_linear = result.params['c'].value\n",
    "C2_linear_e = result.params['c'].stderr\n",
    "chi22_linear = chisquare(Tt(np.exp(C2_linear),r2_linear),t,y2)"
   ]
  },
  {
   "cell_type": "markdown",
   "metadata": {},
   "source": [
    "#### Summary for solution A and B\n",
    "From results of $\\chi^2$ below, we find that Back difference work better than forward difference and fitting better than difference. "
   ]
  },
  {
   "cell_type": "code",
   "execution_count": 8,
   "metadata": {},
   "outputs": [
    {
     "name": "stdout",
     "output_type": "stream",
     "text": [
      "                      coffee                         coffee with cream\n",
      "-----------------------------------------------------------------------------\n",
      "                 r               χ^2                  r               χ^2\n",
      "Foward    0.02261 +/- 0.00496     226.96     0.02087 +/- 0.00523     131.42\n",
      "Back      0.02374 +/- 0.00547     134.27     0.02184 +/- 0.00580      83.19\n",
      "Nonlinear 0.02409 +/- 0.00053      35.82     0.02153 +/- 0.00046      18.29\n",
      "Linear    0.02406 +/- 0.00052      35.90     0.01973 +/- 0.00033      35.64\n"
     ]
    }
   ],
   "source": [
    "print('                      coffee                         coffee with cream')\n",
    "print('-----------------------------------------------------------------------------')\n",
    "print(\"                 r               \\u03C7^2                  r               \\u03C7^2\")\n",
    "print('Foward   ',rchi.format(r1_fwd,r1_fwd_e,chi21_fwd,r2_fwd,r2_fwd_e,chi22_fwd))\n",
    "print('Back     ',rchi.format(r1_back,r1_back_e,chi21_back,r2_back,r2_back_e,chi22_back))\n",
    "print('Nonlinear',rchi.format(r1_nonlinear,r1_nonlinear_e,chi21_nonlinear,\n",
    "                              r2_nonlinear,r2_nonlinear_e,chi22_nonlinear))\n",
    "print('Linear   ',rchi.format(r1_linear,r1_linear_e,chi21_linear,r2_linear,r2_linear_e,chi22_linear))"
   ]
  },
  {
   "cell_type": "markdown",
   "metadata": {},
   "source": [
    "### c) Significance of $\\Delta t$\n",
    "Set $\\Delta t = 0.01, 0.1, 0.2$, we estimate errors of $\\Delta T$"
   ]
  },
  {
   "cell_type": "code",
   "execution_count": 9,
   "metadata": {},
   "outputs": [],
   "source": [
    "import math\n",
    "def Euler(x,y,f,dx):\n",
    "    y += f(x,y)*dx\n",
    "    x += dx\n",
    "    return x,y\n",
    "\n",
    "def cooling(x0,y0,dt,r,ytrue,tmax,tshow=2):\n",
    "    x, y = x0,y0\n",
    "    nshow = math.ceil(tshow/dt)\n",
    "    T = lambda x: ytrue[0]*np.exp(-r*x)\n",
    "    f = lambda x,y: -r*y\n",
    "    output='Step {:3d}: x = {:7.4f}, y_euler = {:.4f}, y_fun = {:.4f}, y_obs = {:.4f}, y_fun - y_euler = {:7.4f}'\n",
    "    i = 0\n",
    "    while (x<t[-1]):\n",
    "        Tx=T(x)\n",
    "        if i%nshow==0:print(output.format(i,x,y,Tx,ytrue[i//nshow],y-Tx))\n",
    "        i += 1\n",
    "        x, y = Euler(x,y,f,dt)"
   ]
  },
  {
   "cell_type": "code",
   "execution_count": 10,
   "metadata": {},
   "outputs": [
    {
     "name": "stdout",
     "output_type": "stream",
     "text": [
      "Step   0: x =  0.0000, y_euler = 65.3000, y_fun = 65.3000, y_obs = 65.3000, y_fun - y_euler =  0.0000\n",
      "Step 200: x =  2.0000, y_euler = 62.2320, y_fun = 62.2324, y_obs = 61.5000, y_fun - y_euler = -0.0004\n",
      "Step 400: x =  4.0000, y_euler = 59.3082, y_fun = 59.3088, y_obs = 57.3000, y_fun - y_euler = -0.0007\n",
      "Step 600: x =  6.0000, y_euler = 56.5217, y_fun = 56.5227, y_obs = 53.7000, y_fun - y_euler = -0.0010\n",
      "Step 800: x =  8.0000, y_euler = 53.8661, y_fun = 53.8674, y_obs = 50.6000, y_fun - y_euler = -0.0012\n",
      "Step 1000: x = 10.0000, y_euler = 51.3353, y_fun = 51.3368, y_obs = 48.0000, y_fun - y_euler = -0.0015\n",
      "Step 1200: x = 12.0000, y_euler = 48.9234, y_fun = 48.9251, y_obs = 45.5000, y_fun - y_euler = -0.0017\n",
      "Step 1400: x = 14.0000, y_euler = 46.6248, y_fun = 46.6267, y_obs = 43.1000, y_fun - y_euler = -0.0019\n",
      "Step 1600: x = 16.0000, y_euler = 44.4343, y_fun = 44.4363, y_obs = 41.1000, y_fun - y_euler = -0.0021\n",
      "Step 1800: x = 18.0000, y_euler = 42.3466, y_fun = 42.3488, y_obs = 39.1000, y_fun - y_euler = -0.0022\n",
      "Step 2000: x = 20.0000, y_euler = 40.3570, y_fun = 40.3594, y_obs = 37.3000, y_fun - y_euler = -0.0023\n",
      "Step 2200: x = 22.0000, y_euler = 38.4609, y_fun = 38.4634, y_obs = 35.8000, y_fun - y_euler = -0.0024\n",
      "Step 2400: x = 24.0000, y_euler = 36.6539, y_fun = 36.6565, y_obs = 34.2000, y_fun - y_euler = -0.0025\n",
      "Step 2600: x = 26.0000, y_euler = 34.9318, y_fun = 34.9344, y_obs = 32.9000, y_fun - y_euler = -0.0026\n",
      "Step 2800: x = 28.0000, y_euler = 33.2906, y_fun = 33.2933, y_obs = 31.6000, y_fun - y_euler = -0.0027\n",
      "Step 3000: x = 30.0000, y_euler = 31.7265, y_fun = 31.7293, y_obs = 30.2000, y_fun - y_euler = -0.0028\n",
      "Step 3200: x = 32.0000, y_euler = 30.2359, y_fun = 30.2387, y_obs = 29.1000, y_fun - y_euler = -0.0028\n",
      "Step 3400: x = 34.0000, y_euler = 28.8153, y_fun = 28.8182, y_obs = 28.0000, y_fun - y_euler = -0.0028\n",
      "Step 3600: x = 36.0000, y_euler = 27.4615, y_fun = 27.4644, y_obs = 26.9000, y_fun - y_euler = -0.0029\n",
      "Step 3800: x = 38.0000, y_euler = 26.1713, y_fun = 26.1741, y_obs = 26.0000, y_fun - y_euler = -0.0029\n",
      "Step 4000: x = 40.0000, y_euler = 24.9417, y_fun = 24.9445, y_obs = 24.9000, y_fun - y_euler = -0.0029\n",
      "Step 4200: x = 42.0000, y_euler = 23.7698, y_fun = 23.7727, y_obs = 24.0000, y_fun - y_euler = -0.0029\n",
      "Step 4400: x = 44.0000, y_euler = 22.6530, y_fun = 22.6559, y_obs = 23.1000, y_fun - y_euler = -0.0029\n",
      "Step 4600: x = 46.0000, y_euler = 21.5887, y_fun = 21.5916, y_obs = 22.5000, y_fun - y_euler = -0.0029\n"
     ]
    }
   ],
   "source": [
    "cooling(0,y1[0],0.01,r1_linear,y1,t[-1])"
   ]
  },
  {
   "cell_type": "code",
   "execution_count": 11,
   "metadata": {},
   "outputs": [
    {
     "name": "stdout",
     "output_type": "stream",
     "text": [
      "Step   0: x =  0.0000, y_euler = 65.3000, y_fun = 65.3000, y_obs = 65.3000, y_fun - y_euler =  0.0000\n",
      "Step  20: x =  2.0000, y_euler = 62.2288, y_fun = 62.2324, y_obs = 61.5000, y_fun - y_euler = -0.0036\n",
      "Step  40: x =  4.0000, y_euler = 59.3020, y_fun = 59.3088, y_obs = 57.3000, y_fun - y_euler = -0.0069\n",
      "Step  60: x =  6.0000, y_euler = 56.5128, y_fun = 56.5227, y_obs = 53.7000, y_fun - y_euler = -0.0098\n",
      "Step  80: x =  8.0000, y_euler = 53.8549, y_fun = 53.8674, y_obs = 50.6000, y_fun - y_euler = -0.0125\n",
      "Step 100: x = 10.0000, y_euler = 51.3219, y_fun = 51.3368, y_obs = 48.0000, y_fun - y_euler = -0.0149\n",
      "Step 120: x = 12.0000, y_euler = 48.9081, y_fun = 48.9251, y_obs = 45.5000, y_fun - y_euler = -0.0170\n",
      "Step 140: x = 14.0000, y_euler = 46.6078, y_fun = 46.6267, y_obs = 43.1000, y_fun - y_euler = -0.0189\n",
      "Step 160: x = 16.0000, y_euler = 44.4157, y_fun = 44.4363, y_obs = 41.1000, y_fun - y_euler = -0.0206\n",
      "Step 180: x = 18.0000, y_euler = 42.3267, y_fun = 42.3488, y_obs = 39.1000, y_fun - y_euler = -0.0221\n",
      "Step 200: x = 20.0000, y_euler = 40.3360, y_fun = 40.3594, y_obs = 37.3000, y_fun - y_euler = -0.0234\n",
      "Step 220: x = 22.0000, y_euler = 38.4389, y_fun = 38.4634, y_obs = 35.8000, y_fun - y_euler = -0.0245\n",
      "Step 240: x = 24.0000, y_euler = 36.6310, y_fun = 36.6565, y_obs = 34.2000, y_fun - y_euler = -0.0255\n",
      "Step 260: x = 26.0000, y_euler = 34.9081, y_fun = 34.9344, y_obs = 32.9000, y_fun - y_euler = -0.0263\n",
      "Step 280: x = 28.0000, y_euler = 33.2663, y_fun = 33.2933, y_obs = 31.6000, y_fun - y_euler = -0.0270\n",
      "Step 300: x = 30.0000, y_euler = 31.7017, y_fun = 31.7293, y_obs = 30.2000, y_fun - y_euler = -0.0276\n",
      "Step 320: x = 32.0000, y_euler = 30.2107, y_fun = 30.2387, y_obs = 29.1000, y_fun - y_euler = -0.0280\n",
      "Step 340: x = 34.0000, y_euler = 28.7898, y_fun = 28.8182, y_obs = 28.0000, y_fun - y_euler = -0.0284\n",
      "Step 360: x = 36.0000, y_euler = 27.4357, y_fun = 27.4644, y_obs = 26.9000, y_fun - y_euler = -0.0286\n",
      "Step 380: x = 38.0000, y_euler = 26.1453, y_fun = 26.1741, y_obs = 26.0000, y_fun - y_euler = -0.0288\n",
      "Step 400: x = 40.0000, y_euler = 24.9156, y_fun = 24.9445, y_obs = 24.9000, y_fun - y_euler = -0.0289\n",
      "Step 420: x = 42.0000, y_euler = 23.7438, y_fun = 23.7727, y_obs = 24.0000, y_fun - y_euler = -0.0289\n",
      "Step 440: x = 44.0000, y_euler = 22.6270, y_fun = 22.6559, y_obs = 23.1000, y_fun - y_euler = -0.0289\n"
     ]
    }
   ],
   "source": [
    "cooling(0,y1[0],0.1,r1_linear,y1,t[-1])"
   ]
  },
  {
   "cell_type": "code",
   "execution_count": 12,
   "metadata": {},
   "outputs": [
    {
     "name": "stdout",
     "output_type": "stream",
     "text": [
      "Step   0: x =  0.0000, y_euler = 65.3000, y_fun = 65.3000, y_obs = 65.3000, y_fun - y_euler =  0.0000\n",
      "Step  10: x =  2.0000, y_euler = 62.2251, y_fun = 62.2324, y_obs = 61.5000, y_fun - y_euler = -0.0072\n",
      "Step  20: x =  4.0000, y_euler = 59.2951, y_fun = 59.3088, y_obs = 57.3000, y_fun - y_euler = -0.0138\n",
      "Step  30: x =  6.0000, y_euler = 56.5030, y_fun = 56.5227, y_obs = 53.7000, y_fun - y_euler = -0.0197\n",
      "Step  40: x =  8.0000, y_euler = 53.8423, y_fun = 53.8674, y_obs = 50.6000, y_fun - y_euler = -0.0250\n",
      "Step  50: x = 10.0000, y_euler = 51.3070, y_fun = 51.3368, y_obs = 48.0000, y_fun - y_euler = -0.0298\n",
      "Step  60: x = 12.0000, y_euler = 48.8910, y_fun = 48.9251, y_obs = 45.5000, y_fun - y_euler = -0.0341\n",
      "Step  70: x = 14.0000, y_euler = 46.5888, y_fun = 46.6267, y_obs = 43.1000, y_fun - y_euler = -0.0379\n",
      "Step  80: x = 16.0000, y_euler = 44.3951, y_fun = 44.4363, y_obs = 41.1000, y_fun - y_euler = -0.0413\n",
      "Step  90: x = 18.0000, y_euler = 42.3046, y_fun = 42.3488, y_obs = 39.1000, y_fun - y_euler = -0.0442\n",
      "Step 100: x = 20.0000, y_euler = 40.3125, y_fun = 40.3594, y_obs = 37.3000, y_fun - y_euler = -0.0468\n",
      "Step 110: x = 22.0000, y_euler = 38.4143, y_fun = 38.4634, y_obs = 35.8000, y_fun - y_euler = -0.0491\n",
      "Step 120: x = 24.0000, y_euler = 36.6054, y_fun = 36.6565, y_obs = 34.2000, y_fun - y_euler = -0.0510\n",
      "Step 130: x = 26.0000, y_euler = 34.8817, y_fun = 34.9344, y_obs = 32.9000, y_fun - y_euler = -0.0527\n",
      "Step 140: x = 28.0000, y_euler = 33.2392, y_fun = 33.2933, y_obs = 31.6000, y_fun - y_euler = -0.0541\n",
      "Step 150: x = 30.0000, y_euler = 31.6740, y_fun = 31.7293, y_obs = 30.2000, y_fun - y_euler = -0.0552\n",
      "Step 160: x = 32.0000, y_euler = 30.1826, y_fun = 30.2387, y_obs = 29.1000, y_fun - y_euler = -0.0561\n",
      "Step 170: x = 34.0000, y_euler = 28.7613, y_fun = 28.8182, y_obs = 28.0000, y_fun - y_euler = -0.0568\n",
      "Step 180: x = 36.0000, y_euler = 27.4070, y_fun = 27.4644, y_obs = 26.9000, y_fun - y_euler = -0.0574\n",
      "Step 190: x = 38.0000, y_euler = 26.1165, y_fun = 26.1741, y_obs = 26.0000, y_fun - y_euler = -0.0577\n",
      "Step 200: x = 40.0000, y_euler = 24.8867, y_fun = 24.9445, y_obs = 24.9000, y_fun - y_euler = -0.0579\n",
      "Step 210: x = 42.0000, y_euler = 23.7148, y_fun = 23.7727, y_obs = 24.0000, y_fun - y_euler = -0.0579\n",
      "Step 220: x = 44.0000, y_euler = 22.5981, y_fun = 22.6559, y_obs = 23.1000, y_fun - y_euler = -0.0578\n"
     ]
    }
   ],
   "source": [
    "cooling(0,y1[0],0.2,r1_linear,y1,t[-1])"
   ]
  },
  {
   "cell_type": "markdown",
   "metadata": {},
   "source": [
    "\\begin{eqnarray}\n",
    "\\Delta t = 0.01, \\Delta T \\approx 0.003 \\\\\n",
    "\\Delta t = 0.1 , \\Delta T \\approx 0.03 \\\\\n",
    "\\Delta t = 0.2 , \\Delta T \\approx 0.06 \\\\\n",
    "\\Delta t \\propto 0.3 \\Delta T\n",
    "\\end{eqnarray}"
   ]
  },
  {
   "cell_type": "markdown",
   "metadata": {},
   "source": [
    "### d) cooling time"
   ]
  },
  {
   "cell_type": "markdown",
   "metadata": {},
   "source": [
    "Let $T^\\prime = T-Ts$, by using equation $T - T_s = Ce^{-rt} $, we get\n",
    "\n",
    "\\begin{eqnarray}\n",
    "ratio = {T^\\prime(0) \\over T^\\prime(t)} = e^{rt} \\\\\n",
    "t = log(ratio)/r\n",
    "\\end{eqnarray}\n",
    "\n",
    "Thus, for each difference, it will take\n",
    "\\begin{eqnarray}\n",
    "ratio = 2, t = log(2)/r = 28.8 min \\\\\n",
    "ratio = 4, t = log(4)/r = 57.6 min \\\\\n",
    "ratio = 8, t = log(8)/r = 86.4 min \\\\\n",
    "\\end{eqnarray}"
   ]
  },
  {
   "cell_type": "code",
   "execution_count": 13,
   "metadata": {},
   "outputs": [
    {
     "name": "stdout",
     "output_type": "stream",
     "text": [
      "28.810997993629353 57.62199598725871 86.43299398088806\n"
     ]
    }
   ],
   "source": [
    "ln2=np.log(2)\n",
    "dln2br=ln2/r1_linear\n",
    "\n",
    "print(dln2br,2*dln2br,3*dln2br)"
   ]
  },
  {
   "cell_type": "markdown",
   "metadata": {},
   "source": [
    "### e) Modifications\n",
    "\n",
    "Use quadratic polynomial to subtitute linnear funtion to fit: \n",
    "\\begin{eqnarray}\n",
    "T(t) = e^{c-rt+at^2} + T_s\n",
    "\\end{eqnarray}"
   ]
  },
  {
   "cell_type": "code",
   "execution_count": 14,
   "metadata": {},
   "outputs": [
    {
     "name": "stdout",
     "output_type": "stream",
     "text": [
      "[[Model]]\n",
      "    Model(polyfun)\n",
      "[[Fit Statistics]]\n",
      "    # fitting method   = leastsq\n",
      "    # function evals   = 9\n",
      "    # data points      = 24\n",
      "    # variables        = 3\n",
      "    chi-square         = 96.1838684\n",
      "    reduced chi-square = 4.58018421\n",
      "    Akaike info crit   = 39.3169878\n",
      "    Bayesian info crit = 42.8511493\n",
      "[[Variables]]\n",
      "    a:  1.9162e-04 +/- 9.8671e-06 (5.15%) (init = 0.1)\n",
      "    c:  4.17333673 +/- 0.00304788 (0.07%) (init = 3)\n",
      "    r:  0.03152233 +/- 4.0345e-04 (1.28%) (init = 0.1)\n",
      "[[Correlations]] (unreported correlations are < 0.100)\n",
      "    C(a, r) =  0.953\n",
      "    C(c, r) =  0.781\n",
      "    C(a, c) =  0.634\n",
      "\n",
      "goodness: 1.3560108968767107e-11\n"
     ]
    },
    {
     "data": {
      "image/png": "[encoded data removed]",
      "text/plain": [
       "<Figure size 432x288 with 1 Axes>"
      ]
     },
     "metadata": {
      "needs_background": "light"
     },
     "output_type": "display_data"
    },
    {
     "name": "stdout",
     "output_type": "stream",
     "text": [
      "χ^2 for quadratic polynomial :    1.926\n"
     ]
    }
   ],
   "source": [
    "def polyfun(x,c=3,r=0.1,a=0.1):\n",
    "    return -r*x + c + a*x**2\n",
    "\n",
    "ye = 0.1*np.sqrt(2)/y1\n",
    "\n",
    "result = fit(polyfun,t,logy1,1/ye)\n",
    "\n",
    "plt.errorbar(t,logy1,yerr=ye,ls='None',marker='o',ms=2,label='coffee data')\n",
    "plt.plot(t,result.best_fit,label='log(T-Ts) = C-rt+a*t^2')\n",
    "plt.title('Coffee')\n",
    "plt.xlabel('t')\n",
    "plt.ylabel('log(T-Ts)')\n",
    "plt.legend()  \n",
    "plt.show()\n",
    "\n",
    "def Tt1(c,r,a):\n",
    "    return lambda x:np.exp(c-r*x+a*x**2)\n",
    "\n",
    "r1_poly = result.params['r'].value\n",
    "r1_poly_e = result.params['r'].stderr\n",
    "C1_poly = result.params['c'].value\n",
    "C1_poly_e = result.params['c'].stderr\n",
    "a = result.params['a'].value\n",
    "chi21_poly = chisquare(Tt1(C1_poly,r1_poly,a),t,y1)\n",
    "\n",
    "print(\"\\u03C7^2 for quadratic polynomial : {:8.3f}\".format(chi21_poly))"
   ]
  },
  {
   "cell_type": "markdown",
   "metadata": {},
   "source": [
    "### f) visualize the change of coffee temperature"
   ]
  },
  {
   "cell_type": "code",
   "execution_count": 15,
   "metadata": {},
   "outputs": [
    {
     "data": {
      "image/png": "[encoded data removed]",
      "text/plain": [
       "<Figure size 432x288 with 2 Axes>"
      ]
     },
     "metadata": {
      "needs_background": "light"
     },
     "output_type": "display_data"
    }
   ],
   "source": [
    "fun = Tt1(C1_poly,r1_poly,a)\n",
    "t1=np.linspace(t[0], t[-1], num=100)\n",
    "y3 = fun(t)\n",
    "plt.scatter(t,y3+Ts,c=y3,cmap='gist_heat',marker='*',label=\"$T(t) = e^{c-rt+at^2} + T_s$\")\n",
    "plt.scatter(t,y1+Ts,c=y1,cmap='gist_heat',marker='o',label='data')\n",
    "plt.title('Coffee')\n",
    "plt.xlabel('t')\n",
    "plt.ylabel('T')\n",
    "plt.legend()\n",
    "plt.colorbar()\n",
    "plt.show()"
   ]
  },
  {
   "cell_type": "markdown",
   "metadata": {},
   "source": [
    "## 2.2 Is it faster to add cream first or later?\n",
    "\n",
    "Suppose we add cream after t_1 mins to reach temperature $T_1$ and take t_2 mins to reach sipped tempterature $T_{end}$. From question d), we get\n",
    "\\begin{eqnarray}\n",
    "T_1 - T_s = (T_{start}-T_s) e^{-r_1 t_1} \\\\\n",
    "T_{end} - T_s = (T_1 - T_s - \\Delta T) e^{-r_2 t_2}\n",
    "\\end{eqnarray}\n",
    "\n",
    "Then we can get funtion of total time needed to spend with $t_1$\n",
    "\\begin{eqnarray}\n",
    "t_{total} &=& t_1 + t_2 \\\\\n",
    "&=& t_1 + log({T_1 - T_s + \\Delta T \\over T_{end}-T_s})/r_2 \\\\\n",
    "&=& t_1 + log({(T_{start}-T_s) e^{-r_1 t_1} - \\Delta T \\over T_{end}-T_s})/r_2\n",
    "\\end{eqnarray}\n",
    "Suggest $t_2 \\ge 0$, the up boundrary of $t_1$ would be\n",
    "\\begin{eqnarray}\n",
    "t_{1up} = log({T_{start}-T_s \\over T_{end}-T_s + \\Delta T})/r_1\n",
    "\\end{eqnarray}\n",
    "\n",
    "Fix $\\Delta T = 8$, plot function $t_{total}$ of $t_1$:"
   ]
  },
  {
   "cell_type": "code",
   "execution_count": 16,
   "metadata": {},
   "outputs": [
    {
     "name": "stdout",
     "output_type": "stream",
     "text": [
      "t1up =  10.20365918752102\n"
     ]
    },
    {
     "data": {
      "image/png": "[encoded data removed]",
      "text/plain": [
       "<Figure size 432x288 with 1 Axes>"
      ]
     },
     "metadata": {
      "needs_background": "light"
     },
     "output_type": "display_data"
    },
    {
     "name": "stdout",
     "output_type": "stream",
     "text": [
      "t_min = 10.227965144163333\n"
     ]
    }
   ],
   "source": [
    "r1, r2 = r1_nonlinear, r2_nonlinear\n",
    "Tstart = 95\n",
    "Tt1 = Tt(C1_nonlinear,r1_nonlinear)\n",
    "Tt2 = Tt(C2_nonlinear,r2_nonlinear)\n",
    "Tend = 70\n",
    "dT = 8\n",
    "\n",
    "def time(t1,r1,r2,Tstart=95,Tend=70,dT=8,Ts=Ts):\n",
    "    # t0: add cream after t0 mins\n",
    "    ratio = ((Tstart-Ts)*np.exp(-r1*t1) - dT)/(Tend-Ts)\n",
    "    mask = ratio>1\n",
    "    return mask*(t1 + np.log(ratio)/r2)+ (1- mask)*up(Tstart=Tstart,Tend=Tend,dT=dT,Ts=Ts)\n",
    "\n",
    "def up(Tstart=95,Tend=70,dT=8,Ts=Ts):\n",
    "    return np.log((Tstart-Ts)/(Tend-Ts+dT))/r1\n",
    "\n",
    "tup = up()\n",
    "print(\"t1up = \", up())\n",
    "t1 = np.linspace(0,tup+1,1000)\n",
    "\n",
    "ttotal = time(t1,r1_linear, r2_linear,dT=8)\n",
    "plt.plot(t1,ttotal)\n",
    "plt.xlabel('$t_1$')\n",
    "plt.ylabel('$t_{total}$')\n",
    "plt.show()\n",
    "\n",
    "print(\"t_min =\", t1[np.argmin(ttotal)])"
   ]
  },
  {
   "cell_type": "markdown",
   "metadata": {},
   "source": [
    "We see that it is faster to add cream at the end. Then we discuss about dependence on the valule of $\\Delta T$. To vary $\\Delta T$ from 0 to 25, we use above formula to get total minimal time and compare it to situation of adding cream first or at the end. "
   ]
  },
  {
   "cell_type": "code",
   "execution_count": 17,
   "metadata": {},
   "outputs": [
    {
     "data": {
      "image/png": "[encoded data removed]",
      "text/plain": [
       "<Figure size 432x288 with 1 Axes>"
      ]
     },
     "metadata": {
      "needs_background": "light"
     },
     "output_type": "display_data"
    }
   ],
   "source": [
    "dTs = np.linspace(0,25,100)\n",
    "\n",
    "t_min = np.zeros(dTs.shape[0])\n",
    "t_first = np.zeros(dTs.shape[0])\n",
    "t_after = np.zeros(dTs.shape[0])\n",
    "\n",
    "for i in range(dTs.shape[0]):\n",
    "    tup = up(dT=dTs[i])\n",
    "    t1 = np.linspace(0,tup,1000)\n",
    "    ttotal = time(t1,r1_linear, r2_linear,dT=dTs[i])\n",
    "    t_min[i] = t1[np.argmin(ttotal)]\n",
    "    t_first[i] = ttotal[0]\n",
    "    t_after[i] = ttotal[-1]\n",
    "\n",
    "plt.plot(dTs,t_min,label='$t_{min}$',ls='None',marker='^',ms=2,color='red')\n",
    "plt.plot(dTs,t_first,label='add cream first',ls='None',marker='+',ms=2,color='blue')\n",
    "plt.plot(dTs,t_after,label='add cream at the end',ls='None',marker='*',ms=2,color='black')\n",
    "plt.xlabel('$\\Delta T$')\n",
    "plt.ylabel('$t$')\n",
    "plt.legend()\n",
    "plt.show()"
   ]
  },
  {
   "cell_type": "markdown",
   "metadata": {},
   "source": [
    "We see that adding cream at the end always spends minist time from lab experiment. By taking partial of $t_{total}$ respect to $t_1$,\n",
    "\\begin{eqnarray}\n",
    "{\\partial t_{total} \\over \\partial t_{total}} = 1 - {r_1 \\over r_2} {(T_{start} - T_s )e^{-r_1 t_1} \\over (T_{start} - T_s )e^{-r_1 t_1} - \\Delta T}\n",
    "\\end{eqnarray}\n",
    "Because ${r_1 \\over r_2}>1$ and \n",
    "${(T_{start} - T_s )e^{-r_1 t_1} \\over (T_{start} - T_s )e^{-r_1 t_1} - \\Delta T}>1$, we can get \n",
    "${\\partial t_{total} \\over \\partial t_{total}}<0$ and $t_{total}$ decrease monotonically with $t_1$. Hence, we conclude that adding cream at the end always spends minist time."
   ]
  },
  {
   "cell_type": "code",
   "execution_count": null,
   "metadata": {},
   "outputs": [],
   "source": []
  }
 ],
 "metadata": {
  "kernelspec": {
   "display_name": "Python 3",
   "language": "python",
   "name": "python3"
  },
  "language_info": {
   "codemirror_mode": {
    "name": "ipython",
    "version": 3
   },
   "file_extension": ".py",
   "mimetype": "text/x-python",
   "name": "python",
   "nbconvert_exporter": "python",
   "pygments_lexer": "ipython3",
   "version": "3.6.6"
  },
  "widgets": {
   "application/vnd.jupyter.widget-state+json": {
    "state": {},
    "version_major": 2,
    "version_minor": 0
   }
  }
 },
 "nbformat": 4,
 "nbformat_minor": 2
}
